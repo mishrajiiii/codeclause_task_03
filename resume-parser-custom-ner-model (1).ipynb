{
 "cells": [
  {
   "cell_type": "code",
   "execution_count": null,
   "metadata": {
    "id": "ni0FUZOw03BU"
   },
   "outputs": [],
   "source": [
    "import spacy"
   ]
  },
  {
   "cell_type": "code",
   "execution_count": null,
   "metadata": {
    "id": "ESOFb2x-07nc",
    "outputId": "38c0e544-32f8-4d21-a96a-c1dcc42063fa"
   },
   "outputs": [],
   "source": [
    "# Loading pre-defined language model from Spacy\n",
    "nlp = spacy.load('en_core_web_sm')\n",
    "nlp.pipe_names"
   ]
  },
  {
   "cell_type": "code",
   "execution_count": null,
   "metadata": {
    "id": "vEHP3PWf1kLr"
   },
   "outputs": [],
   "source": [
    "# Writing a small function to get the position of the target word in a sentence\n",
    "def get(sentence, target):\n",
    "  start_index = sentence.find(target)\n",
    "  end_index = int(start_index) + len(target)\n",
    "  print(\"'\",sentence, \"', {'entities': [(\",start_index,\",\", end_index,\",\",\"'soft_skills')]}\")"
   ]
  },
  {
   "cell_type": "code",
   "execution_count": null,
   "metadata": {
    "id": "iJhUCYZ25Rw3",
    "outputId": "7587c63a-bc65-4377-901d-7ce79adcfdde"
   },
   "outputs": [],
   "source": [
    "sentence = [\"The two companies are working in close collaboration each other.\",\n",
    "            \"Close collaboration between the Bank and the Fund is not merely desirable, it is essential.\",\n",
    "            \"The company is building the centre in collaboration with the Institute of Offshore Engineering.\",\n",
    "            \"The project has involved collaboration with the geography department.\",\n",
    "            \"Rock musicians are working in collaboration with an orchestra to create a new opera.\",\n",
    "            \"Creative collaboration occurs in other arts as well.\",\n",
    "            \"Presented in collaboration with the Oxford Bengali Cultural Association.\"\n",
    "]\n",
    "for i in sentence:\n",
    "  get(i, 'collaboration')"
   ]
  },
  {
   "cell_type": "code",
   "execution_count": null,
   "metadata": {
    "id": "ovVuW8-n8JrD"
   },
   "outputs": [],
   "source": [
    "# Creating a manual set of data points with tags\n",
    "\n",
    "train = [\n",
    "         (\"Skilled with Wrike and AtTask project management software. \",{\"entities\":[(13,18,\"hard_skills\"),(23,29,\"hard_skills\")]}),\n",
    "         (\"Expert knowledge of SQL and relational database management systems. \",{\"entities\":[(20,23,\"hard_skills\"),(28,66,\"hard_skills\")]}),\n",
    "         (\"Proficient in Microsoft Office (Word, Excel, Outlook, PowerPoint, Visio). \",{\"entities\":[(14,30,\"hard_skills\"),(32,36,\"hard_skills\"),(38,43,\"hard_skills\"),(45,52,\"hard_skills\"),(54,64,\"hard_skills\"),(66,71,\"hard_skills\")]}),\n",
    "         (\"Provided technical leadership and training to ensure on time and in budget project delivery \",{\"entities\":[(19,29,\"soft_skills\")]}),\n",
    "         (\"Experienced at managing relational and non-relational database software such as MySQL, SQLite3, Mongo DB, and JSON \",{\"entities\":[(80,85,\"hard_skills\"),(87,94,\"hard_skills\"),(96,104,\"hard_skills\"),(110,114,\"hard_skills\")]}),\n",
    "         (\"Proficient in PHP, Ruby on Rails, Java, C++, and Python \",{\"entities\":[(14,17,\"hard_skills\"),(19,32,\"hard_skills\"),(34,38,\"hard_skills\"),(40,43,\"hard_skills\"),(49,55,\"hard_skills\")]}),\n",
    "         (\"Used predictive analytics such as machine learning and data mining techniques to forecast company sales of new products with a 95% accuracy rate \",{\"entities\":[(5,25,\"hard_skills\"),(34,50,\"hard_skills\"),(55,66,\"hard_skills\"),(81,89,\"hard_skills\")]}),\n",
    "         (\"Improved data mining processes, resulting in a 20% decrease in time needed to infer insights from customer data used to develop marketing strategies \",{\"entities\":[(9,20,\"hard_skills\")]}),\n",
    "         (\"Used advanced Microsoft Excel to create pivot tables, used VLOOKUP, and other Excel functions\",{\"entities\":[(14,29,\"hard_skills\"),(40,52,\"hard_skills\"),(59,66,\"hard_skills\"),(78,93,\"hard_skills\")]}),\n",
    "         (\"Data Scientist with 4+ years of experience executing data-driven solutions to increase efficiency, accuracy, and utility of internal data processing. \",{\"entities\":[(0,14,\"hard_skills\")]}),\n",
    "         (\"Experienced at creating data regression models, using predictive data modeling, and analyzing data mining algorithms to deliver insights and implement action-oriented solutions to complex business problems. \",{\"entities\":[(29,39,\"hard_skills\"),(54,78,\"hard_skills\"),(84,93,\"soft_skills\"),(94,105,\"hard_skills\")]}),\n",
    "         (\"Increased accessibility and usability of customer data by redesigning data visualization techniques to include statistical graphs and information graphics \",{\"entities\":[(70,88,\"hard_skills\")]}),\n",
    "         (\"Utilized web scraping techniques to extract and organize competitor data \",{\"entities\":[(9,21,\"hard_skills\")]}),\n",
    "         (\"Conducted a data regression analysis of the relationship between company stock prices and industry trends, achieving a 15% more accurate prediction of performance than previous years \",{\"entities\":[(17,27,\"hard_skills\")]}),\n",
    "         (\"Used statistical techniques for hypothesis testing to validate data and interpretations\",{\"entities\":[(32,50,\"hard_skills\")]}),\n",
    "         (\"Designed and built statistical analysis models on large data sets (e.g., Aster, Teradata) that helped increase online sales (up to 15% per product) and lowered cart-abandonment rate by 23%.\",{\"entities\":[(19,39,\"hard_skills\"),(73,78,\"hard_skills\"),(80,88,\"hard_skills\")]}),\n",
    "         (\"Created visually impactful dashboards in Excel and Tableau for data reporting by using pivot tables and VLOOKUP. Extracted, interpreted and analyzed data to identify key metrics and transform raw data into meaningful, actionable information.\",{\"entities\":[(41,47,\"hard_skills\"),(51,58,\"hard_skills\"),(104,111,\"hard_skills\")]}),\n",
    "         (\"Conduct data mining, data modeling, statistical analysis, business intelligence gathering, trending and benchmarking. Data analytics supports decisions for high-priority, enterprise initiatives involving IT/product development, customer service improvement, organizational realignment and process reengineering.\",{\"entities\":[(8,19,\"hard_skills\"),(20,34,\"hard_skills\"),(36,56,\"hard_skills\"),(58,79,\"hard_skills\"),(118,132,\"hard_skills\")]}),\n",
    "         (\"Research and develop state of the art techniques in the field of computer vision, ML and DL \",{\"entities\":[(65,80,\"hard_skills\"),(82,84,\"hard_skills\"),(89,91,\"hard_skills\")]}),\n",
    "         (\"Research and develop deep learning algorithms \",{\"entities\":[(21,34,\"hard_skills\"),(35,45,\"hard_skills\")]}),\n",
    "         (\"Research & develop Machine Learning models for security problems, in the areas of Networking, Application & Data \",{\"entities\":[(19,35,\"hard_skills\")]}),\n",
    "         (\"Develop new machine learning models to detect malicious activity on mobile devices\",{\"entities\":[(12,28,\"hard_skills\")]}),\n",
    "         (\"Design, conduct, and report results from prototype or proof-of-concept research projects that focus on 1) new tools, methods, or algorithms, 2) new scientific domains or application areas, or 3) new data sets or sources \",{\"entities\":[]}),\n",
    "         (\"Work with every investment team in MBFI (Credit, Macro, Equities, RV, Securitized, Mid-horizon etc.) to introduce cutting-edge techniques and innovative data sources across the Fund \",{\"entities\":[]}),\n",
    "         (\"Create innovative, systematic investment signals and strategies based on a rigorous, peer-reviewed research process \",{\"entities\":[(0,0,\"soft_skills\")]}),\n",
    "         (\"Develop the teams capabilities in data science and machine-learning, and apply them to create new data-driven insights \",{\"entities\":[(34,46,\"hard_skills\"),(51,67,\"hard_skills\"),(98,109,\"soft_skills\")]}),\n",
    "         (\"This role will suit you if you thrive on working in a fast paced environment where your work has high impact \",{\"entities\":[(54,64,\"soft_skills\")]}),\n",
    "         (\"Work closely with development teams to ensure accurate integration of machine learning models into firm platforms \",{\"entities\":[(70,86,\"hard_skills\")]}),\n",
    "         ('Presented in collaboration with the Oxford Bengali Cultural Association. ', {'entities': [( 13 , 26 , 'soft_skills')]}),\n",
    "         ('Rock musicians are working in collaboration with an orchestra to create a new opera. ', {'entities': [( 30 , 43 , 'soft_skills')]}),\n",
    "         ('Creative collaboration occurs in other arts as well. ', {'entities': [( 9 , 22 , 'soft_skills')]}),\n",
    "         ('The project has involved collaboration with the geography department. ', {'entities': [( 25 , 38 , 'soft_skills')]}),\n",
    "         ('The company is building the centre in collaboration with the Institute of Offshore Engineering. ', {'entities': [( 38 , 51 , 'soft_skills')]}),\n",
    "         ('Close collaboration between the Bank and the Fund is not merely desirable, it is essential. ', {'entities': [( 6 , 19 , 'soft_skills')]}),\n",
    "         ('The two companies are working in close collaboration each other. ', {'entities': [( 39 , 52 , 'soft_skills')]}),\n",
    "         ('Empathy was crucial for managing diversity among subordinates. ', {'entities': [( 0 , 7 , 'soft_skills')]}),\n",
    "         ('Empathy is another crucial ingredient when establishing rapport. ', {'entities': [( 0 , 7 , 'soft_skills')]}),\n",
    "         ('You have a creative streak-very dangerous when coupled with empathy. ', {'entities': [( 60 , 67 , 'soft_skills')]}),\n",
    "         ('What she probably needs much more is your empathy and appreciation. ', {'entities': [( 42 , 49 , 'soft_skills')]}),\n",
    "         (\"This helps to develop empathy - the ability to see things from the other's point of view in addition to one's own.\", {'entities': [( 22 , 29 , 'soft_skills')]}),\n",
    "         ('They feel empathy for what he felt. ', {'entities': [( 10 , 17 , 'soft_skills')]}),\n",
    "         ('It is important to develop the empathy between dogs and their handlers. ', {'entities': [( 31 , 38 , 'soft_skills')]}),\n",
    "         ('She had great empathy with people. ', {'entities': [( 14 , 21 , 'soft_skills')]}),\n",
    "         ('I felt real empathy for my mother and what she had been through. ', {'entities': [( 12 , 19 , 'soft_skills')]}),\n",
    "         ('It is up to Europe to take on the mantle of leadership in environmental issues. ', {'entities': [( 44 , 54 , 'soft_skills')]}),\n",
    "         ('It is wishful thinking to expect deeper change under his leadership. ', {'entities': [( 57 , 67 , 'soft_skills')]}),\n",
    "         ('Strong leadership skills. ', {'entities': [( 7 , 17 , 'soft_skills')]}),\n",
    "         ('The leadership has been unwilling to follow through the implications of these ideas. ', {'entities': [( 4 , 14 , 'soft_skills')]}),\n",
    "         ('He is a manager capable of leadership. ', {'entities': [( 27 , 37 , 'soft_skills')]}),\n",
    "         ('He was praised for his firm leadership. ', {'entities': [( 28 , 38 , 'soft_skills')]}),\n",
    "         ('His confident leadership inspired his followers. ', {'entities': [( 14 , 24 , 'soft_skills')]}),\n",
    "         ('John has taken the leadership of the football team. ', {'entities': [( 19 , 29 , 'soft_skills')]}),\n",
    "         ('Teamwork is a key feature of the training programme. ', {'entities': [( 0 , 8 , 'soft_skills')]}),\n",
    "         ('Teamwork is required in order to achieve these aims. ', {'entities': [( 0 , 8 , 'soft_skills')]}),\n",
    "         ('Talent wins games, but teamwork and intelligence wins championships.', {'entities': [( 23 , 31 , 'soft_skills')]}),\n",
    "         ('Excellent teamwork from our staff has brought improvement on all fronts .', {'entities': [( 10 , 18 , 'soft_skills')]}),\n",
    "         ('Her determination, teamwork skills and leadership capabilities convinced us that she was perfect for the job ', {'entities': [( 19 , 27 , 'soft_skills')]}),\n",
    "         ('Good teamwork is a powerful tool for effective management. ', {'entities': [( 5 , 13 , 'soft_skills')]}),\n",
    "         ('We want to encourage good teamwork and communication. ', {'entities': [( 26 , 34 , 'soft_skills')]}),\n",
    "         ('Brilliant teamwork and old fashioned grit got the team a last minute point. ', {'entities': [( 10 , 18 , 'soft_skills')]}),\n",
    "         ('Only teamwork will enable us to get the job done on time. ', {'entities': [( 5 , 13 , 'soft_skills')]}),\n",
    "         ('To illustrate my point I have done a comparative analysis. ', {'entities': [( 49 , 57 , 'soft_skills')]}),\n",
    "         ('It is difficult to take issue with his analysis. ', {'entities': [( 39 , 47 , 'soft_skills')]}),\n",
    "         ('His analysis of the problem showed great perception. ', {'entities': [( 4 , 12 , 'soft_skills')]}),\n",
    "         (\"The documentary's treatment/analysis of the issues was very superficial.\", {'entities': [( 28 , 36 , 'soft_skills')]}),\n",
    "         ('The analysis showed a few grains of arsenic in the solution. ', {'entities': [( 4 , 12 , 'soft_skills')]}),\n",
    "         ('The law requires a detailed analysis of the potential impact on the environment of a proposed project. ', {'entities': [( 28 , 36 , 'soft_skills')]}),\n",
    "         ('They carried out an in-depth analysis of the results. ', {'entities': [( 29 , 37 , 'soft_skills')]}),\n",
    "         ('Further analysis of the data is needed. ', {'entities': [( 8 , 16 , 'soft_skills')]}),\n",
    "         ('Creativity and originality are more important than technical skill. ', {'entities': [( 0 , 10 , 'soft_skills')]}),\n",
    "         ('We must harness the skill and creativity of our workforce.', {'entities': [(30 , 40 , 'soft_skills')]}),\n",
    "         ('Becoming your own person releases your creativity. ', {'entities': [(39 , 49 , 'soft_skills')]}),\n",
    "         ('People with creativity are seldom found nowdays.', {'entities': [(12 , 22 , 'soft_skills')]}),\n",
    "         (\"We're looking for young people with enterprise and creativity.\", {'entities': [(51 , 61 , 'soft_skills')]}),\n",
    "         ('Communication with other countries was difficult during the telephone and postal strike. ', {'entities': [( 1 , 14 , 'soft_skills')]}),\n",
    "         ('Good people management and communication skills. ', {'entities': [( 27 , 40 , 'soft_skills')]}),\n",
    "         ('Initiative, independent and good communication skill. ', {'entities': [( 33 , 46 , 'soft_skills')]}),\n",
    "         ('Good communication is vital in a large organization. ', {'entities': [( 5 , 18 , 'soft_skills')]}),\n",
    "         ('Mass communication sometimes arouses resistance. ', {'entities': [( 5 , 18 , 'soft_skills')]}),\n",
    "         ('Good communication is important for business. ', {'entities': [( 5 , 18 , 'soft_skills')]}),\n",
    "         ('Formal communication channels are usually vertical. ', {'entities': [( 7 , 20 , 'soft_skills')]}),\n",
    "         ('Employees need to be self-starters with higher than normal creativity and problem solving skills because a supervisor is not nearby. ', {'entities': [( 74 , 89 , 'soft_skills')]}),\n",
    "         ('The interpretation of these posters, at least on first reading, required a certain amount of problem solving activity. ', {'entities': [( 93 , 108 , 'soft_skills')]}),\n",
    "         ('They deal with the whole problem solving process from problem sensed to problem overcome. ', {'entities': [( 25 , 40 , 'soft_skills')]}),\n",
    "         ('In essence problem solving presents a new and challenging angle on a site or feature.Job sharers scored high marks on problem solving, team work and flexibility and demonstrated greater resilience in the face of setbacks. ', {'entities': [( 11 , 26 , 'soft_skills')]}),\n",
    "         ('The assessment of learning outcomes related to problem solving and personal qualities requires mathematics to be undertaken in context. ', {'entities': [( 47 , 62 , 'soft_skills')]}),\n",
    "         ('The apes are exhibiting previously unknown resources of problem solving[Sentencedict.com ], and the experiments will doubtless continue. ', {'entities': [( 56 , 71 , 'soft_skills')]}),\n",
    "         ('These support problem solving techniques such as rule-based systems, genetic optimisation and fuzzy logic. ', {'entities': [( 14 , 29 , 'soft_skills')]}),\n",
    "         ('But an important aspect of problem solving is retrospection.', {'entities': [( 27 , 42 , 'soft_skills')]}),\n",
    "         ('You need to systematize your approach to problem solving', {'entities': [( 41 , 56 , 'soft_skills')]}),\n",
    "         ('Published reports and dashboards using Power BI.', {'entities': [( 39 , 47 , 'hard_skills')]}),\n",
    "         ('Explore data in a Variety of ways and across multiple visualizations using Power BI.', {'entities': [( 75 , 83 , 'hard_skills')]}),\n",
    "         ('Used Power BI, Power Pivot to develop data analysis prototype, and used Power View and Power Map to visualize reports.', {'entities': [( 5 , 13 , 'hard_skills')]}),\n",
    "         ('Generated computed tables in Power BI by using Dax.', {'entities': [( 29 , 37 , 'hard_skills')]}),\n",
    "         ('Strong Knowledge on Power BI to import data from various sources.', {'entities': [( 20 , 28 , 'hard_skills')]}),\n",
    "         ('These collective systems have evolved by means of natural SELECTION to exhibit striking problem solving capacities ', {'entities': [( 88 , 103 , 'soft_skills')]}),\n",
    "         ('Many tech startups recognize this truth-there seems to be a new, great problem solving app born every day.', {'entities': [( 71 , 86 , 'soft_skills')]}),\n",
    "         (\"Don't believe that all the good, problem solving ideas have been taken.\", {'entities': [( 33 , 48 , 'soft_skills')]}),\n",
    "         ('The fun never ends and neither does its ability to hone your logic and problem solving skills to razor sharpness. ', {'entities': [( 71 , 86 , 'soft_skills')]}),\n",
    "         ('Communicate clearly and concisely ', {'entities': [( 0 , 11 , 'soft_skills')]}),\n",
    "         ('Excellent communication, leadership, motivational skills and can interact effectively with clients, business prospects and staff ', {'entities': [( 10 , 23 , 'soft_skills'),( 25 , 35 , 'soft_skills')]}),\n",
    "         ('Well developed skills in prioritizing, organization, decision making, time management, and verbal/written communication skills ', {'entities': [( 25 , 37 , 'soft_skills'),( 53 , 68 , 'soft_skills'),( 70 , 85 , 'soft_skills'),( 106 , 119 , 'soft_skills')]}),\n",
    "         ('Excellent written and verbal communication skills ', {'entities': [( 29 , 42 , 'soft_skills')]}),\n",
    "         ('Become a core resource in Tableau expertise for the Digital Analytics team', {'entities': [(26 , 33 , 'hard_skills')]}),\n",
    "         ('Utilize best practice principles in designing and conceptualizing Tableau dashboards from business requirements ', {'entities': [( 66 , 73 , 'hard_skills')]}),\n",
    "         ('Research underlying data and define an approach using SQL, SAS, and Tableau capabilities for enabling access and performance ', {'entities': [( 54 , 57 , 'hard_skills'),( 59 , 62 , 'hard_skills'),( 68 , 75 , 'hard_skills')]}),\n",
    "         ('Experience developing reports and making recommendations, using BI software such as SAS, OBIEE, Tableau.', {'entities': [( 84 , 87 , 'hard_skills'), ( 96 , 103 , 'hard_skills')]}),\n",
    "         ('The Senior Risk Quant SAS Developer will design and develop robust automated solutions in partnership with stakeholders in Risk and Finance', {'entities': [( 22 , 25 , 'hard_skills')]}),\n",
    "         ('Execute change management processes surrounding new releases of SAS functionality.', {'entities': [( 64 , 67 , 'hard_skills')]}),\n",
    "         ('Evaluate and recommend new tools and methodologies to assist with change management and perform upgrades of the SAS environment when necessary.', {'entities': [( 112 , 115 , 'hard_skills')]}),\n",
    "         ('Conducting data research using the latest data mining and data manipulation applications', {'entities': [( 42 , 53 , 'hard_skills')]}),\n",
    "         ('Work closely with data mining team to ensure reporting database is monitored / maintained daily.', {'entities': [( 18 , 29 , 'hard_skills')]}),\n",
    "         ('Building predictive models using data mining methodologies along with analyzing and mining business data to identify patterns and correlations among the various data points ', {'entities': [( 9 , 26 , 'hard_skills'),( 33 , 44 , 'hard_skills')]}),\n",
    "         ('Manage the Data warehouse and provide database and data mining technical support ', {'entities': [( 51 , 62 , 'hard_skills')]}),\n",
    "         ('Research & develop Machine Learning models for security problems, in the areas of Networking, Application & Data', {'entities': [( 19 , 35 , 'hard_skills')]}),\n",
    "         ('Develop new machine learning models to detect malicious activity on mobile devices.', {'entities': [( 12 , 28 , 'hard_skills')]}),\n",
    "         ('Knowledge of one or more open-source Machine Learning framework.', {'entities': [( 37 , 53 , 'hard_skills')]}),\n",
    "         ('Strong knowledge of data structures, algorithms, operating systems, and distributed systems fundamentals.', {'entities': [( 20 , 35 , 'hard_skills'),( 37 , 47 , 'hard_skills')]}),\n",
    "         ('Understanding of data structures and algorithms.', {'entities': [( 17 , 32 , 'hard_skills'), ( 37 , 47 , 'hard_skills')]}),\n",
    "         ('Worked on Shiny and R application showcasing machine learning.', {'entities': [( 20 , 21 , 'hard_skills'), (45 , 61 , 'hard_skills')]}),\n",
    "         ('Worked on R packages.', {'entities': [( 10 , 11 , 'hard_skills')]}),\n",
    "         ('Formulated procedures for integration of R programming plans with data sources and delivery systems.', {'entities': [( 41 , 42 , 'hard_skills')]}),\n",
    "         ('Prepared scripts to ensure proper data access, manipulation and reporting functions with R programming languages.', {'entities': [( 89 , 90 , 'hard_skills')]}),\n",
    "         ('Assisted in pricing of securities including bonds and mortgages in programming domain such as C++, Matlab and R programming.', {'entities': [( 94 , 97 , 'hard_skills'),( 99 , 105 , 'hard_skills'),( 109 , 110 , 'hard_skills')]}),\n",
    "         ('I have done two projects Healthcare & E- Commerce on R programming', {'entities': [( 53 , 54 , 'hard_skills')]}),\n",
    "         ('Server-based Node.js development.', {'entities': [( 13 , 20 , 'hard_skills')]}),\n",
    "         ('Write content for blogs and other outlets on Node.js', {'entities': [( 45 , 52 , 'hard_skills')]}),\n",
    "         ('At least 2+ years of experience programming with Node.js', {'entities': [( 49 , 56 , 'hard_skills')]}),\n",
    "         ('Experience with database abstraction libraries and ORMs especially those from the Node.js world', {'entities': [( 82 , 89 , 'hard_skills')]}),\n",
    "         ('Strong understanding of Node.JS internals and systems', {'entities': [( 24 , 31 , 'hard_skills')]}),\n",
    "         ('Experience working as a backend developer, developing in Node.JS', {'entities': [( 57 , 64 , 'hard_skills')]}),\n",
    "         ('In-depth knowledge of XML and XSLT data and processing tools.', {'entities': [( 22 , 25 , 'hard_skills'), ( 30 , 34 , 'hard_skills')]}),\n",
    "         ('Remain current on all new updates and programs available XML programming.', {'entities': [( 57 , 60 , 'hard_skills')]}),\n",
    "         ('Develop new applications using XML DotNet and other programming software available.', {'entities': [( 31 , 34 , 'hard_skills')]}),\n",
    "         ('Write technical guides to XML applications.', {'entities': [( 26 , 29 , 'hard_skills')]}),\n",
    "         ('Experience with multivariate regression, logistic regression, and cluster analysis.', {'entities': [( 29 , 39 , 'hard_skills'), ( 74 , 82 , 'hard_skills')]}),\n",
    "         ('Basic statistical knowledge including regression', {'entities': [( 38 , 48 , 'hard_skills')]}),\n",
    "         ('Develop Regression/Tree based models to support the database marketing efforts of co-op members and clients.', {'entities': [( 8 , 18 , 'hard_skills')]}),\n",
    "         ('Thorough understanding of basic statistical methods such as hypothesis testing, linear regression, etc.', {'entities': [( 60 , 78 , 'hard_skills'), ( 87 , 97 , 'hard_skills')]}),\n",
    "         ('Independently conducts rigorous statistical analysis, including statistical modeling, multiple regressions', {'entities': [( 95 , 105 , 'hard_skills')]}),\n",
    "         ('Possess familiarity with various programming languages, including C, C++, MATLAB, Core Java, SQL and FORTRAN', {'entities': [( 74 , 80 , 'hard_skills')]}),\n",
    "         ('Followed instructions from lead developer to explore and develop user interfaces for data pre-processing and data analysis in Matlab', {'entities': [( 126 , 132 , 'hard_skills')]}),\n",
    "         ('Implementing algorithms from Matlab into C++ on embedded solutions and optimizing performance on VLIW/SIMD cores for maximum throughput and lowest latency', {'entities': [( 29 , 35 , 'hard_skills')]}),\n",
    "         ('Creating new web services using Matlab and other programming languages to support integration with other development systems', {'entities': [( 32 , 38 , 'hard_skills')]}),\n",
    "         ('Designed various applications using GUIs, C++, Matlab and developed multiple gaming applications like Stellaria, classic board game Risk etc. to increase the download percentage from Android PlayStore', {'entities': [( 47 , 53 , 'hard_skills')]}),\n",
    "         ('Coordinated with other programmers to develop cutting edge web applications as per client specifications using HTML, JavaScript and Matlab', {'entities': [( 132 , 138 , 'hard_skills')]}),\n",
    "         ('Support cross-functional projects & initiatives requiring forecasting or scoring expertise to drive business strategy execution', {'entities': [( 58 , 69 , 'hard_skills')]}),\n",
    "         ('Support the development of forecasting & scoring models for risk management and business planning purposes', {'entities': [( 27 , 38 , 'hard_skills')]}),\n",
    "         ('Experience with Walt Disney Parks & Resorts forecasting and planning processes', {'entities': [( 44 , 55 , 'hard_skills')]}),\n",
    "         ('3+ years in forecasting, supply chain, retail planning, or other relevant analytical roles', {'entities': [( 12 , 23 , 'hard_skills')]}),\n",
    "         ('Develop and own modifying financial models for re-forecasting and scenario analysis purposes', {'entities': [( 50 , 61 , 'hard_skills')]}),\n",
    "         ('Assist with the forecasting and analysis process', {'entities': [( 16 , 27 , 'hard_skills')]}),\n",
    "         ('Web page layout hard_skills using HTML, CSS, XML/XSLT', {'entities': [( 35 , 38 , 'hard_skills')]}),\n",
    "         ('Knowledge of developing Rich interface application using Adobe FLEX (Alternatively proficiency in HTML5, CSS3, jQuery, AJAX and WEB design/developmentis also acceptable. )', {'entities': [( 105 , 108 , 'hard_skills')]}),\n",
    "         ('HTML5, CSS, and JavaScript', {'entities': [( 7 , 10 , 'hard_skills')]}),\n",
    "         ('Advanced HTML5, CSS3 and JavaScript hard_skills necessary', {'entities': [( 16 , 19 , 'hard_skills')]}),\n",
    "         ('3 years experience with HTML and CSS', {'entities': [( 33 , 36 , 'hard_skills')]}),\n",
    "         ('Experience with ColdFusion or SQL, CSS, CMS a plus', {'entities': [( 35 , 38 , 'hard_skills')]}),\n",
    "         ('Strong experience in JSON , HTML5 , Angular JS', {'entities': [( 28 , 32 , 'hard_skills')]}),\n",
    "         ('Experience with HTML, as well as some knowledge of Dreamweaver, as this role owns the intranet portal for practitioners', {'entities': [( 16 , 20 , 'hard_skills')]}),\n",
    "         ('Proficient in HTML5 Development', {'entities': [( 14 , 18 , 'hard_skills')]}),\n",
    "         ('Working knowledge in Java, JavaScript, HTML and CSS', {'entities': [( 39 , 43 , 'hard_skills')]}),\n",
    "         (\"Then there's HTML circa Netscape Navigator 2.0.\", {'entities': [( 13 , 17 , 'hard_skills')]}),\n",
    "         ('No more need to learn HTML, or hypertext markup language.', {'entities': [( 22 , 26 , 'hard_skills')]}),\n",
    "         ('Java Script is a pre-emptive strike against Microsoft, which next week will unveil its own Internet software program code-named Blackbird.', {'entities': [( 0 , 11 , 'hard_skills')]}),\n",
    "         ('Students, who have internships at companies in Boston, learn HTML and Java Script as well as the computer language, ColdFusion.', {'entities': [( 70 , 81 , 'hard_skills')]}),\n",
    "         ('It also is announcing Visual Basic Script to compete with easy-to-use Java Script from Netscape and Sun.', {'entities': [( 70 , 81 , 'hard_skills')]}),\n",
    "         ('On Monday, Sun Microsystems and Netscape will announce a dumbed-down version of the program called Java Script, sources say.', {'entities': [( 99 , 110 , 'hard_skills')]}),\n",
    "         ('Netscape wrote the Java Script program but it will carry the Sun name.', {'entities': [( 19 , 30 , 'hard_skills')]}),\n",
    "         ('The 36-year-old San Francisco resident repairs Java script and writes HTML code.', {'entities': [( 47 , 58 , 'hard_skills')]}),\n",
    "         ('The latest version of MayaVi, called Mayavi2, is a component of the Enthought suite of scientific Python programs.', {'entities': [( 98 , 113 , 'hard_skills')]}),\n",
    "         ('Gadfly allows Python programs to store, retrieve and query tabular data without having to rely on any external database engine or package.', {'entities': [( 14 , 29 , 'hard_skills')]}),\n",
    "         ('Python programs are easy to read yet the code are very compact so you get much done with little code to write.', {'entities': [( 0 , 15 , 'hard_skills')]}),\n",
    "         ('It can generate stand-alone programs or extension modules that can be imported and used in larger Python programs.', {'entities': [( 98 , 113 , 'hard_skills')]}),\n",
    "         ('PyGObject provides a wrapper for use in Python programs when accessing GObject libraries.', {'entities': [( 40 , 55 , 'hard_skills')]}),\n",
    "         ('Additionally, the Canopy IDE is also an option for writing Python programs.', {'entities': [( 59 , 74 , 'hard_skills')]}),\n",
    "         ('Master Data Services first shipped with Microsoft SQL Server 2008 R2.', {'entities': [( 50 , 53 , 'hard_skills')]}),\n",
    "         ('The Enterprise edition used Microsoft SQL Server as its database engine.', {'entities': [( 38 , 41 , 'hard_skills')]}),\n",
    "         ('Some SQL DBMSs implement vendor-specific functions similar to COALESCE.', {'entities': [( 5 , 8 , 'hard_skills')]}),\n",
    "         ('Customer software can use the database with object and SQL code.', {'entities': [( 55 , 58 , 'hard_skills')]}),\n",
    "         ('Clarion supports both SQL databases and non-SQL data stores.', {'entities': [( 22 , 25 , 'hard_skills')]}),\n",
    "         ('SQL Server acts as the data librarian of a computer network.', {'entities': [( 0 , 3 , 'hard_skills')]}),\n",
    "         ('The firewall script runs on every PHP document on the server.', {'entities': [( 34 , 37 , 'hard_skills')]}),\n",
    "         ('Globule also supports the replication of PHP documents accessing MySQL databases.', {'entities': [( 41 , 44 , 'hard_skills')]}),\n",
    "         ('497 Google count All results are from php script directoy listings.', {'entities': [( 38 , 41 , 'hard_skills')]}),\n",
    "         ('It is written in PHP and uses a MySQL database server.', {'entities': [( 17 , 20 , 'hard_skills')]}),\n",
    "         ('Many languages support this including PHP, bash scripts and perl.', {'entities': [( 38 , 41 , 'hard_skills')]}),\n",
    "         ('Most web hosting providers support PHP for use by their clients.', {'entities': [( 35 , 38 , 'hard_skills')]}),\n",
    "         (\"And it could happen if you use Microsoft Word 98 for Macintosh\", {\"entities\": [(31 , 45 , 'hard_skills')]}),\n",
    "         (\"First released for Lotus 1-2-3 and later also for Microsoft Excel.\", {\"entities\": [(50 , 65 , 'hard_skills')]}),\n",
    "         (\"So really impressive Java programs will still require faster Internet connections.\", {\"entities\": [(21 , 25 , 'hard_skills')]}),\n",
    "         (\"The Java computer language has been hailed as an Internet innovation.\", {\"entities\": [(4 , 8 , 'hard_skills')]}),\n",
    "         (\"Intel sees Java as a key building block, he said.\", {\"entities\": [(11 , 15 , 'hard_skills')]}),\n",
    "         (\"Schmidt said at an industry conference on Java in New York.\", {\"entities\": [(42 , 46 , 'hard_skills')]}),\n",
    "         ('Sun Microsystems Inc . has a competitive programming language, Java.', {'entities': [( 63 , 67 , 'hard_skills')]}),\n",
    "         ('So a rogue Java program could seize control of the computer.', {'entities': [( 11 , 15 , 'hard_skills')]}),\n",
    "         ('Java enables developers to embed mini-programs into Web pages.', {'entities': [( 0 , 4 , 'hard_skills')]}),\n",
    "         ('Over 4 plus years of experience with Machine Learning using R language and Python.', {'entities': [( 37 , 53 , 'hard_skills'),( 60 , 61 , 'hard_skills'), (75 , 81 , 'hard_skills')]}),\n",
    "         ('Implementing client-server, web and desktop-based applications using C/C++ language.', {'entities': [(69 , 74 , 'hard_skills')]}),\n",
    "         ('Self- directed, detail-oriented, and professional C++ programmer', {'entities': [(50 , 53 , 'hard_skills')]}),\n",
    "         ('Thorough knowledge of C/C++ programming concepts.', {'entities': [(22 , 27 , 'hard_skills')]}),\n",
    "         ('Knowledge of advanced level programming in C/C++ including thread synchronization multithreading', {'entities': [( 43 , 48 , 'hard_skills')]}),\n",
    "         ('Developed highly efficient algorithms in C++ through both pair-programming and independent work.', {'entities': [( 41 , 44 , 'hard_skills')]}),\n",
    "         ('Specified, prototyped, developed and tested an object-oriented, multiplatform C++ framework.', {'entities': [( 78 , 81 , 'hard_skills')]}),\n",
    "         ('Debugging and investigating issues utilizing C++ on the client server.', {'entities': [( 45 , 48 , 'hard_skills')]}),\n",
    "         ('C/C++ developer with experience in Object Oriented Analysis and Design', {'entities': [( 0 , 5 , 'hard_skills')]}),\n",
    "         ('Setting up and optimising Google Analytics properties and views in line with current product structure.', {'entities': [(26 , 42 , 'hard_skills')]}),\n",
    "         ('Strong knowledge of Google Analytics, as well as other analytics apps. ', {'entities': [( 20 , 36 , 'hard_skills')]}),\n",
    "         ('Building dashboards/customer segmentations, designing/analyzing digital marketing campaigns using Google Analytics', {'entities': [( 98 , 114 , 'hard_skills')]}),\n",
    "         ('Setting up and optimising Google Analytics properties and views in line with current product structure.', {'entities': [( 26 , 42 , 'hard_skills')]}),\n",
    "         ('Hands-on experience with Google Analytics.', {'entities': [( 25 , 41 , 'hard_skills')]}),\n",
    "         ('Proficient in configuring Google Analytics features.', {'entities': [( 26 , 42 , 'hard_skills')]}),\n",
    "         ('Build infrastructure using Hadoop’s core components such as HBase, Kafka, and Hive', {'entities': [( 60 , 65 , 'hard_skills'),(67 , 72 , 'hard_skills'),( 78 , 82 , 'hard_skills') ]}),\n",
    "         ('Hands on experience with Running Pig and Hive Queries. ', {'entities': [( 33 , 36 , 'hard_skills'),( 41 , 45 , 'hard_skills')]}),\n",
    "         ('Analyzing data with Hive, Pig and HBase Data scrubbing and processing with Oozie.', {'entities': [( 20 , 24 , 'hard_skills'), (26 , 29 , 'hard_skills'), ( 34 , 39 , 'hard_skills')]}),\n",
    "         ('Develop data solutions with Big Data technologies such as Hive.', {'entities': [( 58 , 62 , 'hard_skills')]}),\n",
    "         ('Experience working in Hive or related tools on Hadoop.', {'entities': [( 22 , 26 , 'hard_skills')]}),\n",
    "         ('Slide shows using Microsoft PowerPoint, displayed on a big screen in front.', {'entities': [(18 , 38 , 'hard_skills')]}),\n",
    "         ('It is also supported by GIMP, Google Chrome, Microsoft PowerPoint and Microsoft Word.', {'entities': [(45 , 65 , 'hard_skills'), ( 70 , 84 , 'hard_skills')]}),\n",
    "         ('Some applications commonly used with the Smart Board are Microsoft PowerPoint, Word, and AutoCAD.', {'entities': [(57 , 77 , 'hard_skills'), (89 , 96 , 'hard_skills')]}),\n",
    "         ('It is also used for the conversion of Microsoft PowerPoint presentations into elearning content.', {'entities': [( 38 , 58 , 'hard_skills')]}),\n",
    "         ('Issue concerns use of Microsoft Powerpoint clip art.', {'entities': [( 22 , 42 , 'hard_skills')]}),\n",
    "         ('Formats of files supported include Avi files, Microsoft Excel, Microsoft Powerpoint, Microsoft Word, Adobe PDF, MPEG-4 files.', {'entities': [( 46 , 61 , 'hard_skills'),( 63 , 83 , 'hard_skills'), ( 85 , 99 , 'hard_skills')]}),\n",
    "         ('The software runs on Microsoft Access which operates only on Microsoft Windows.', {'entities': [( 21 , 37 , 'hard_skills')]}),\n",
    "         ('That is what Microsoft Access is designed for.', {'entities': [( 13 , 29 , 'hard_skills')]}),\n",
    "         (\"The alliance gives Microsoft access to MCI's 20 million residential and business customers.\", {'entities': [(19 , 35 , 'hard_skills')]}),\n",
    "         ('In November, Microsoft released the first version of their popular database software Microsoft Access.', {'entities': [( 85 , 101 , 'hard_skills')]}),\n",
    "         ('The reporting engine is based on a portable Microsoft Access database.', {'entities': [( 44 , 60 , 'hard_skills')]}),\n",
    "         ('ASP . NET works really well with Microsoft SQL Server and Microsoft Access.', {'entities': [( 43 , 46 , 'hard_skills'), (58 , 74 , 'hard_skills')]}),\n",
    "         ('It is written in PHP and uses a MySQL database server.', {'entities': [( 17 , 20 , 'hard_skills'),(32 , 37 , 'hard_skills') ]}),\n",
    "         ('I have a MySQL database table with about 2 million rows.', {'entities': [(9 , 14 , 'hard_skills')]}),\n",
    "         ('MySQL database support is added as one such core component.', {'entities': [(0 , 5 , 'hard_skills')]}),\n",
    "         ('MySQL Cluster is able to support cross-shard queries and transactions.', {'entities': [(0 , 5 , 'hard_skills')]}),\n",
    "         ('It also supports REPLACE INTO as an alias for compatibility with MySQL. ', {'entities': [( 65 , 70 , 'hard_skills')]}),\n",
    "         ('OpenSIS is written in PHP and uses MySQL to store information.', {'entities': [(22 , 25 , 'hard_skills'), (35 , 40 , 'hard_skills')]}),\n",
    "         (\"And it could happen if you use Microsoft Word 98 for Macintosh\", {\"entities\": [(31 , 45 , 'hard_skills')]}),\n",
    "         (\"They wrote articles in Microsoft Word and gave the files to Souren.\", {\"entities\": [(23 , 37 , 'hard_skills')]}),\n",
    "         (\"Fortunately, it is possible to change the setting easily with Microsoft Word.\", {\"entities\": [(62 , 76 , 'hard_skills')]}),\n",
    "         (\"Then he pastes his work into Microsoft Word for revisions and corrections.\", {\"entities\": [(29 , 43 , 'hard_skills')]}),\n",
    "         (\"Microsoft Word 97 shows my name as the licensee in the opening window.\", {\"entities\": [(0 , 14 , 'hard_skills')]}),\n",
    "         (\"Fujitsu offers Microsoft Word, Excel and Office with some models of PC.\", {\"entities\": [(15 , 29 , 'hard_skills')]}),\n",
    "         (\"If you have Microsoft Word on your computer, go to it.\", {\"entities\": [(12 , 26 , 'hard_skills')]}),\n",
    "         (\"A complete and up-to-date index in Microsoft Excel format is available online.\", {\"entities\": [(35 , 50 , 'hard_skills')]}),\n",
    "         (\"The main syntax for the formulation of rules adopts the Microsoft Excel format.\", {\"entities\": [(56 , 71 , 'hard_skills')]}),\n",
    "         (\"It is a built-in feature of Microsoft Excel and Microsoft Access.\", {\"entities\": [(28 , 43 , 'hard_skills')]}),\n",
    "         (\"If you are an accountant you are probably familiar with Microsoft Excel.\", {\"entities\": [(56 , 71 , 'hard_skills')]}),\n",
    "         (\"First released for Lotus 1-2-3 and later also for Microsoft Excel.\", {\"entities\": [(50 , 65 , 'hard_skills')]}),\n",
    "         (\"Reports can be exported to Microsoft Excel or saved as Excel-compatible HTML files.\", {\"entities\": [(27 , 42 , 'hard_skills'), (72 , 76 , 'hard_skills')]}),\n",
    "         (\"My wife and I use Microsoft Outlook Express as our e-mail client.\", {\"entities\": [(18 , 35 , 'hard_skills')]}),\n",
    "         (\"It was one of few readers that integrated directly with Microsoft Outlook.\", {\"entities\": [(56 , 73 , 'hard_skills')]}),\n",
    "         (\"Almost immediately, my copy of Microsoft Outlook turned into Microsoft Look Out.\", {\"entities\": [(31 , 48 , 'hard_skills')]}),\n",
    "         (\"It spreads primarily through Microsoft Outlook e-mail software on Windows computers.\", {\"entities\": [(29 , 46 , 'hard_skills')]}),\n",
    "         (\"In Microsoft Outlook, time stamps are therefore stored and communicated without DST offsets.\", {\"entities\": [(3 , 20 , 'hard_skills')]}),\n",
    "         (\"America Online and Microsoft Outlook Express offer subscribers a similar function, Rampell said.\", {\"entities\": [(19 , 36 , 'hard_skills')]}),     \n",
    "]"
   ]
  },
  {
   "cell_type": "code",
   "execution_count": null,
   "metadata": {
    "id": "DjCwdoEQXSK8"
   },
   "outputs": [],
   "source": [
    "# Fetching the NER component\n",
    "ner = nlp.get_pipe(\"ner\")"
   ]
  },
  {
   "cell_type": "code",
   "execution_count": null,
   "metadata": {
    "id": "DSYw5M-IYej5"
   },
   "outputs": [],
   "source": [
    "# Adding two more categories to NER component\n",
    "for _, annotations in train:\n",
    "  for ent in annotations.get(\"entities\"):\n",
    "    ner.add_label(ent[2])"
   ]
  },
  {
   "cell_type": "code",
   "execution_count": null,
   "metadata": {
    "id": "6ezqOaY3abaX"
   },
   "outputs": [],
   "source": [
    "# Disabling 'Tagger' and 'Parser'\n",
    "disable_pipes = [pipe for pipe in nlp.pipe_names if pipe != 'ner']"
   ]
  },
  {
   "cell_type": "code",
   "execution_count": null,
   "metadata": {
    "id": "2beIDfpMawaW",
    "outputId": "841f3d63-ae3f-4d80-a5b5-7c51c8c4402c"
   },
   "outputs": [],
   "source": [
    "import random\n",
    "from spacy.util import minibatch, compounding\n",
    "from pathlib import Path\n",
    "\n",
    "# Disabling 'Tagger' and 'Parser' components while training\n",
    "with nlp.disable_pipes(*disable_pipes):\n",
    "  optimizer = nlp.resume_training()\n",
    "\n",
    "  for iteration in range(100):\n",
    "\n",
    "    random.shuffle(train)\n",
    "    losses = {}\n",
    "\n",
    "    batches = minibatch(train, size=compounding(1.0, 4.0, 1.001))\n",
    "    for batch in batches:\n",
    "      text, annotation = zip(*batch)\n",
    "      nlp.update(\n",
    "          text, \n",
    "          annotation,\n",
    "          drop=0.5,\n",
    "          losses = losses,\n",
    "          sgd = optimizer\n",
    "      )\n",
    "    print(\"Losses: \", losses)"
   ]
  },
  {
   "cell_type": "code",
   "execution_count": null,
   "metadata": {
    "id": "Xi4azaBLu-LT",
    "outputId": "b71b0bba-6357-4c77-99ed-a66fdd70851f"
   },
   "outputs": [],
   "source": [
    "from spacy import displacy\n",
    "\n",
    "doc = nlp('They wrote articles in Microsoft Word and gave the files to Souren. Advanced SPSS, SQL and/or SAS programming skills including SQA BASE/STAT/MACRO/SQL.')\n",
    "print(\"Entities\", [(ent.text, ent.label_) for ent in doc.ents])\n",
    "displacy.render(nlp(doc.text), style = 'ent', jupyter=True)"
   ]
  },
  {
   "cell_type": "code",
   "execution_count": null,
   "metadata": {
    "id": "1HmEzyEJRw5q"
   },
   "outputs": [],
   "source": [
    "nlp.to_disk('/content/drive/MyDrive/Colab Notebooks/Resume Parser/Model/nlp_model')"
   ]
  },
  {
   "cell_type": "code",
   "execution_count": null,
   "metadata": {
    "id": "WFkXJ5DBOeju"
   },
   "outputs": [],
   "source": [
    "nlp_model = spacy.load(r'/content/drive/MyDrive/Colab Notebooks/Resume Parser/Model/nlp_model')"
   ]
  },
  {
   "cell_type": "code",
   "execution_count": null,
   "metadata": {
    "id": "WA92CV3AU8yq",
    "outputId": "4e4f71a1-d528-4903-8aca-dcf48b3e4e7f"
   },
   "outputs": [],
   "source": [
    "pip install PyMuPDF"
   ]
  },
  {
   "cell_type": "code",
   "execution_count": null,
   "metadata": {
    "id": "ZXFN2ZxBSVW9",
    "outputId": "2ae9cd13-13d2-40f5-e11d-144320c06f25"
   },
   "outputs": [],
   "source": [
    "fname = '/content/drive/MyDrive/Colab Notebooks/Resume Parser/Test/Machine_Learning_Resume_1.pdf'\n",
    "doc = fitz.open(fname)\n",
    "text = \"\"\n",
    "for page in doc:\n",
    "  text = text + str(page.getText())\n",
    "\n",
    "doc = nlp(text)\n",
    "print(\"Entities\", [(ent.text, ent.label_) for ent in doc.ents])\n",
    "displacy.render(nlp(doc.text), style = \"ent\", jupyter=True)"
   ]
  },
  {
   "cell_type": "code",
   "execution_count": null,
   "metadata": {
    "id": "X9zRy5C-WMIs"
   },
   "outputs": [],
   "source": [
    "fname = '/content/drive/MyDrive/Colab Notebooks/Resume Parser/Test/Data_Analyst_Resume.pdf'\n",
    "doc = fitz.open(fname)\n",
    "text = \"\"\n",
    "for page in doc:\n",
    "  text = text + str(page.getText())\n",
    "#print(text)"
   ]
  },
  {
   "cell_type": "code",
   "execution_count": null,
   "metadata": {
    "id": "QmakMdJuWCLy",
    "outputId": "869759ce-37db-4868-d98a-013cbd5b1aff"
   },
   "outputs": [],
   "source": [
    "doc = nlp(text)\n",
    "print(\"Entities\", [(ent.text, ent.label_) for ent in doc.ents])\n",
    "displacy.render(nlp(doc.text), style = \"ent\", jupyter=True)"
   ]
  },
  {
   "cell_type": "code",
   "execution_count": null,
   "metadata": {
    "id": "gQlKwkQyWHM7",
    "outputId": "022467d9-6733-45f8-865f-4f26e8dba072"
   },
   "outputs": [],
   "source": [
    "fname = '/content/drive/MyDrive/Colab Notebooks/Resume Parser/Test/Data-Scientist-Resume.pdf'\n",
    "doc = fitz.open(fname)\n",
    "text = \"\"\n",
    "for page in doc:\n",
    "  text = text + str(page.getText())\n",
    "\n",
    "doc = nlp(text)\n",
    "print(\"Entities\", [(ent.text, ent.label_) for ent in doc.ents])\n",
    "displacy.render(nlp(doc.text), style = \"ent\", jupyter=True)"
   ]
  },
  {
   "cell_type": "code",
   "execution_count": null,
   "metadata": {
    "id": "Q-9ddf13UOPO"
   },
   "outputs": [],
   "source": []
  }
 ],
 "metadata": {
  "kernelspec": {
   "display_name": "Python 3 (ipykernel)",
   "language": "python",
   "name": "python3"
  },
  "language_info": {
   "codemirror_mode": {
    "name": "ipython",
    "version": 3
   },
   "file_extension": ".py",
   "mimetype": "text/x-python",
   "name": "python",
   "nbconvert_exporter": "python",
   "pygments_lexer": "ipython3",
   "version": "3.9.7"
  }
 },
 "nbformat": 4,
 "nbformat_minor": 4
}
